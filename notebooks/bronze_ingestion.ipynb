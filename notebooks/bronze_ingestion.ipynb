{
 "cells": [
  {
   "cell_type": "code",
   "execution_count": 0,
   "metadata": {
    "application/vnd.databricks.v1+cell": {
     "cellMetadata": {
      "byteLimit": 2048000,
      "rowLimit": 10000
     },
     "inputWidgets": {},
     "nuid": "1161ea60-feff-4e67-89e3-8275b7dad590",
     "showTitle": false,
     "tableResultSettingsMap": {},
     "title": ""
    }
   },
   "outputs": [],
   "source": [
    "!pip install faker"
   ]
  },
  {
   "cell_type": "code",
   "execution_count": 0,
   "metadata": {
    "application/vnd.databricks.v1+cell": {
     "cellMetadata": {
      "byteLimit": 2048000,
      "rowLimit": 10000
     },
     "inputWidgets": {},
     "nuid": "83418fe8-f345-46c7-8ae1-f8e9f0e20530",
     "showTitle": false,
     "tableResultSettingsMap": {},
     "title": ""
    }
   },
   "outputs": [],
   "source": [
    "from faker import Faker\n",
    "import pandas as pd\n",
    "import random\n",
    "import numpy as np\n",
    "from datetime import datetime\n",
    "\n",
    "fake = Faker()\n",
    "\n",
    "def generate_fake_sales(n=50, inject_defects=True):\n",
    "    segments = ['Government', 'Midmarket', 'Channel Partners', 'Enterprise', 'Small Business']\n",
    "    countries = ['USA', 'Canada', 'Germany', 'France', 'Brazil', 'Australia',\n",
    "                 'Spain', 'Italy', 'United Kingdom', 'Mexico', 'Japan', 'India', 'South Africa']\n",
    "    products = ['Carretera', 'VTT', 'Amarilla', 'Montana', 'Paseo', 'Rosa', 'Negra',\n",
    "                'Ciudad', 'Elite', 'Rapida', 'Velocidad', 'Turbo', 'Aventura']\n",
    "    discount_bands = ['None', 'Low', 'Medium', 'High']\n",
    "\n",
    "    data = []\n",
    "\n",
    "    today = datetime.today()\n",
    "    for _ in range(n):\n",
    "        segment = random.choice(segments)\n",
    "        country = random.choice(countries)\n",
    "        product = random.choice(products)\n",
    "        discount_band = random.choice(discount_bands)\n",
    "\n",
    "        units_sold = random.randint(500, 3000)\n",
    "        manufacturing_price = random.choice([3, 5, 7])\n",
    "        sale_price = random.choice([10, 12, 15, 18, 20, 22, 25, 28, 30, 35, 55, 75, 100, 125])\n",
    "        gross_sales = units_sold * sale_price\n",
    "        discount = 0 if discount_band == 'None' else gross_sales * random.uniform(0.05, 0.20)\n",
    "        sales = gross_sales - discount\n",
    "        cogs = units_sold * manufacturing_price\n",
    "        profit = sales - cogs\n",
    "\n",
    "        date = today.strftime('%Y-%m-%d')\n",
    "        month_number = today.month\n",
    "        month_name = today.strftime('%B')\n",
    "        year = today.year\n",
    "\n",
    "        data.append({\n",
    "            'Segment': segment,\n",
    "            'Country': country,\n",
    "            'Product': product,\n",
    "            'Discount Band': discount_band,\n",
    "            'Units Sold': units_sold,\n",
    "            'Manufacturing Price': manufacturing_price,\n",
    "            'Sale Price': sale_price,\n",
    "            'Gross Sales': round(gross_sales, 2),\n",
    "            'Discounts': round(discount, 2),\n",
    "            'Sales': round(sales, 2),\n",
    "            'COGS': round(cogs, 2),\n",
    "            'Profit': round(profit, 2),\n",
    "            'Date': date,\n",
    "            'Month Number': month_number,\n",
    "            'Month Name': month_name,\n",
    "            'Year': year,\n",
    "        })\n",
    "\n",
    "    df = pd.DataFrame(data)\n",
    "\n",
    "    if inject_defects:\n",
    "        # 1️⃣ Valores ausentes aleatórios\n",
    "        for col in ['Country', 'Product', 'Units Sold']:\n",
    "            df.loc[df.sample(frac=0.05).index, col] = np.nan\n",
    "\n",
    "        # 2️⃣ Pequenos typos em Country\n",
    "        country_typos = {\n",
    "            'Brazil': ['Brasil', 'BRAZIL'],\n",
    "            'USA': ['U.S.A', 'United States'],\n",
    "            'Germany': ['Deutschland'],\n",
    "            'United Kingdom': ['UK'],\n",
    "        }\n",
    "        for idx in df.sample(frac=0.05).index:\n",
    "            c = df.at[idx, 'Country']\n",
    "            if pd.notna(c) and c in country_typos:\n",
    "                df.at[idx, 'Country'] = random.choice(country_typos[c])\n",
    "\n",
    "        # 3️⃣ Datas em formatos diferentes\n",
    "        for idx in df.sample(frac=0.05).index:\n",
    "            d = df.at[idx, 'Date']\n",
    "            if pd.notna(d):\n",
    "                df.at[idx, 'Date'] = datetime.strptime(d, '%Y-%m-%d').strftime('%d/%m/%Y')\n",
    "\n",
    "    return df\n",
    "\n",
    "\n",
    "df = generate_fake_sales(random.randint(75, 500), inject_defects=True)\n",
    "display(df)\n"
   ]
  },
  {
   "cell_type": "code",
   "execution_count": 0,
   "metadata": {
    "application/vnd.databricks.v1+cell": {
     "cellMetadata": {
      "byteLimit": 2048000,
      "rowLimit": 10000
     },
     "inputWidgets": {},
     "nuid": "4d27de37-88db-461b-9729-e8e660d7be52",
     "showTitle": false,
     "tableResultSettingsMap": {},
     "title": ""
    }
   },
   "outputs": [],
   "source": [
    "df.to_csv(f\"/Volumes/main/financial/lakehouse/csv/sales-data-{datetime.today().strftime('%Y-%m-%d')}.csv\", index=False)"
   ]
  }
 ],
 "metadata": {
  "application/vnd.databricks.v1+notebook": {
   "computePreferences": null,
   "dashboards": [],
   "environmentMetadata": {
    "base_environment": "",
    "environment_version": "3"
   },
   "inputWidgetPreferences": null,
   "language": "python",
   "notebookMetadata": {
    "pythonIndentUnit": 4
   },
   "notebookName": "bronze_ingestion",
   "widgets": {}
  },
  "language_info": {
   "name": "python"
  }
 },
 "nbformat": 4,
 "nbformat_minor": 0
}
