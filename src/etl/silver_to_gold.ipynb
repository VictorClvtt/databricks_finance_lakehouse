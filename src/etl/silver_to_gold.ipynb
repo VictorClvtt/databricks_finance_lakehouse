{
 "cells": [
  {
   "cell_type": "code",
   "execution_count": 0,
   "metadata": {
    "application/vnd.databricks.v1+cell": {
     "cellMetadata": {
      "byteLimit": 2048000,
      "rowLimit": 10000
     },
     "inputWidgets": {},
     "nuid": "1a703f61-541d-4cea-b4d9-ad2fb0ed15e3",
     "showTitle": false,
     "tableResultSettingsMap": {},
     "title": ""
    }
   },
   "outputs": [],
   "source": [
    "from pyspark.sql import functions as F\n",
    "from datetime import datetime\n",
    "import os\n",
    "\n",
    "today_str = datetime.now().strftime('%Y-%m-%d')\n",
    "\n",
    "df_sales = spark.read.format('delta').load(f'/Volumes/main/financial/lakehouse/silver/sales/_ingestion_date={today_str}', header=True, inferSchema=True)\n",
    "df_countries = spark.read.format('delta').load(f'/Volumes/main/financial/lakehouse/silver/countries/_ingestion_date={today_str}', header=True, inferSchema=True)"
   ]
  },
  {
   "cell_type": "code",
   "execution_count": 0,
   "metadata": {
    "application/vnd.databricks.v1+cell": {
     "cellMetadata": {
      "byteLimit": 2048000,
      "rowLimit": 10000
     },
     "inputWidgets": {},
     "nuid": "6dc52bdd-5b14-4294-a024-a85f9179b937",
     "showTitle": false,
     "tableResultSettingsMap": {},
     "title": ""
    }
   },
   "outputs": [],
   "source": [
    "dim_date = ( \n",
    "    df_sales.select(\n",
    "        F.date_format(\"date\", \"yyyyMMdd\").cast(\"int\").alias(\"date_key\"),\n",
    "        \"date\",\n",
    "        F.dayofmonth(\"date\").alias(\"day\"),\n",
    "        \"month_number\",\n",
    "        \"month_name\",\n",
    "        \"year\" )\n",
    "    .distinct() \n",
    ")\n",
    "\n",
    "display(dim_date)"
   ]
  },
  {
   "cell_type": "code",
   "execution_count": 0,
   "metadata": {
    "application/vnd.databricks.v1+cell": {
     "cellMetadata": {
      "byteLimit": 2048000,
      "rowLimit": 10000
     },
     "inputWidgets": {},
     "nuid": "41dbb60f-a77e-4d0b-a716-6fcb3afbd330",
     "showTitle": false,
     "tableResultSettingsMap": {},
     "title": ""
    }
   },
   "outputs": [],
   "source": [
    "dim_segment = (\n",
    "    df_sales\n",
    "    .select(\"segment\")\n",
    "    .distinct()\n",
    "    .withColumn(\"segment_key\", F.crc32(F.col(\"segment\")))\n",
    ")\n",
    "\n",
    "display(dim_segment)"
   ]
  },
  {
   "cell_type": "code",
   "execution_count": 0,
   "metadata": {
    "application/vnd.databricks.v1+cell": {
     "cellMetadata": {
      "byteLimit": 2048000,
      "rowLimit": 10000
     },
     "inputWidgets": {},
     "nuid": "d9d89eba-6d9d-4cb7-bf6d-d6f7418eb42f",
     "showTitle": false,
     "tableResultSettingsMap": {},
     "title": ""
    }
   },
   "outputs": [],
   "source": [
    "dim_discount_band = (\n",
    "    df_sales\n",
    "    .select(\"discount_band\")\n",
    "    .distinct()\n",
    "    .withColumn(\"discount_band_key\", F.crc32(F.col(\"discount_band\")))\n",
    ")\n",
    "\n",
    "display(dim_discount_band)"
   ]
  },
  {
   "cell_type": "code",
   "execution_count": 0,
   "metadata": {
    "application/vnd.databricks.v1+cell": {
     "cellMetadata": {
      "byteLimit": 2048000,
      "rowLimit": 10000
     },
     "inputWidgets": {},
     "nuid": "5189b04f-1d3d-46ae-b086-3ad94ca8a325",
     "showTitle": false,
     "tableResultSettingsMap": {},
     "title": ""
    }
   },
   "outputs": [],
   "source": [
    "dim_country = (\n",
    "    df_countries.select(\"country\", \"region\", \"official_language\", \"currency\", \"population\")\n",
    "    .distinct()\n",
    "    .withColumn(\"country_key\", F.crc32(F.col(\"country\")))\n",
    ")\n",
    "\n",
    "display(dim_country)"
   ]
  },
  {
   "cell_type": "code",
   "execution_count": 0,
   "metadata": {
    "application/vnd.databricks.v1+cell": {
     "cellMetadata": {
      "byteLimit": 2048000,
      "rowLimit": 10000
     },
     "inputWidgets": {},
     "nuid": "76827086-240a-4601-9b62-2ce87ab74a75",
     "showTitle": false,
     "tableResultSettingsMap": {},
     "title": ""
    }
   },
   "outputs": [],
   "source": [
    "dim_product = (\n",
    "    df_sales\n",
    "    .select(\"product\", \"manufacturing_price\", \"sale_price\")\n",
    "    .distinct()\n",
    "    .withColumn(\"product_key\", F.crc32(F.col(\"product\")))\n",
    ")\n",
    "\n",
    "display(dim_product)"
   ]
  },
  {
   "cell_type": "code",
   "execution_count": 0,
   "metadata": {
    "application/vnd.databricks.v1+cell": {
     "cellMetadata": {
      "byteLimit": 2048000,
      "rowLimit": 10000
     },
     "inputWidgets": {},
     "nuid": "2f12db84-6521-4094-b20b-d97b8135dfb0",
     "showTitle": false,
     "tableResultSettingsMap": {
      "0": {
       "dataGridStateBlob": "{\"version\":1,\"tableState\":{\"columnPinning\":{\"left\":[\"#row_number#\"],\"right\":[]},\"columnSizing\":{},\"columnVisibility\":{}},\"settings\":{\"columns\":{}},\"syncTimestamp\":1760399461744}",
       "filterBlob": null,
       "queryPlanFiltersBlob": null,
       "tableResultIndex": 0
      }
     },
     "title": ""
    }
   },
   "outputs": [],
   "source": [
    "fact_sales = (\n",
    "    df_sales\n",
    "    # Chaves estrangeiras (mesma lógica das dimensões)\n",
    "    .withColumn(\"product_key\", F.crc32(F.col(\"product\")))\n",
    "    .withColumn(\"country_key\", F.crc32(F.col(\"country\")))\n",
    "    .withColumn(\"segment_key\", F.crc32(F.col(\"segment\")))\n",
    "    .withColumn(\"discount_band_key\", F.crc32(F.col(\"discount_band\")))\n",
    "    .withColumn(\"date_key\", F.date_format(\"date\", \"yyyyMMdd\").cast(\"int\"))\n",
    "    # Seleciona as métricas e chaves\n",
    "    .select(\n",
    "        \"country\",\n",
    "        \"date_key\",\n",
    "        \"country_key\",\n",
    "        \"product_key\",\n",
    "        \"segment_key\",\n",
    "        \"discount_band_key\",\n",
    "        \"units_sold\",\n",
    "        \"gross_sales\",\n",
    "        \"discounts\",\n",
    "        \"sales\",\n",
    "        \"cogs\",\n",
    "        \"profit\"\n",
    "    )\n",
    ")\n",
    "\n",
    "display(fact_sales)"
   ]
  },
  {
   "cell_type": "code",
   "execution_count": 0,
   "metadata": {
    "application/vnd.databricks.v1+cell": {
     "cellMetadata": {
      "byteLimit": 2048000,
      "rowLimit": 10000
     },
     "inputWidgets": {},
     "nuid": "47666b26-a52d-451e-8d18-8d02d2032144",
     "showTitle": false,
     "tableResultSettingsMap": {},
     "title": ""
    }
   },
   "outputs": [],
   "source": [
    "dim_date.write.format(\"delta\").mode(\"append\").save(\"/Volumes/main/financial/lakehouse/gold/dim_date\")\n",
    "dim_country.write.format(\"delta\").mode(\"append\").save(\"/Volumes/main/financial/lakehouse/gold/dim_country\")\n",
    "dim_product.write.format(\"delta\").mode(\"append\").save(\"/Volumes/main/financial/lakehouse/gold/dim_product\")\n",
    "dim_segment.write.format(\"delta\").mode(\"append\").save(\"/Volumes/main/financial/lakehouse/gold/dim_segment\")\n",
    "dim_discount_band.write.format(\"delta\").mode(\"append\").save(\"/Volumes/main/financial/lakehouse/gold/dim_discount_band\")\n",
    "\n",
    "fact_sales.write.format(\"delta\").mode(\"append\").save(\"/Volumes/main/financial/lakehouse/gold/fact_sales\")"
   ]
  }
 ],
 "metadata": {
  "application/vnd.databricks.v1+notebook": {
   "computePreferences": null,
   "dashboards": [],
   "environmentMetadata": {
    "base_environment": "",
    "environment_version": "4"
   },
   "inputWidgetPreferences": null,
   "language": "python",
   "notebookMetadata": {
    "pythonIndentUnit": 4
   },
   "notebookName": "silver_to_gold",
   "widgets": {}
  },
  "language_info": {
   "name": "python"
  }
 },
 "nbformat": 4,
 "nbformat_minor": 0
}
